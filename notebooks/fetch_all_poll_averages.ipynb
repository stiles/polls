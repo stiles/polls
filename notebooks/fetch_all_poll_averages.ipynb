{
 "cells": [
  {
   "cell_type": "code",
   "execution_count": 1,
   "id": "c3c2b261-8334-49ed-bb10-7bb788923fbd",
   "metadata": {},
   "outputs": [],
   "source": [
    "import requests\n",
    "import pandas as pd\n",
    "today = pd.Timestamp.today().strftime('%B %-d')"
   ]
  },
  {
   "cell_type": "code",
   "execution_count": 2,
   "id": "62f5ca38-db12-45c5-bfe5-f603cd7ca694",
   "metadata": {},
   "outputs": [],
   "source": [
    "headers = {\n",
    "    'accept': '*/*',\n",
    "    'user-agent': 'Mozilla/5.0 (Macintosh; Intel Mac OS X 10_15_7) AppleWebKit/537.36 (KHTML, like Gecko) Chrome/127.0.0.0 Safari/537.36',\n",
    "}"
   ]
  },
  {
   "cell_type": "code",
   "execution_count": 3,
   "id": "ddd21e1e-eab2-408d-b799-0653df90cc53",
   "metadata": {},
   "outputs": [],
   "source": [
    "# Function to determine the winner and margin\n",
    "def determine_winner(row):\n",
    "    if row['harris'] > row['trump']:\n",
    "        winner = \"Harris\"\n",
    "        margin = row['harris'] - row['trump']\n",
    "    else:\n",
    "        winner = \"Trump\"\n",
    "        margin = row['trump'] - row['harris']\n",
    "    return f\"{winner} by {margin:.1f}\""
   ]
  },
  {
   "cell_type": "code",
   "execution_count": 4,
   "id": "0dfed16a-96dc-438a-8c9d-3336235538cf",
   "metadata": {},
   "outputs": [],
   "source": [
    "def format_sources(sources):\n",
    "    # Sort the list alphabetically\n",
    "    sorted_sources = sorted(sources)\n",
    "    \n",
    "    # Handle special case for empty or single-item lists\n",
    "    if not sorted_sources:\n",
    "        return \"\"\n",
    "    elif len(sorted_sources) == 1:\n",
    "        return sorted_sources[0]\n",
    "    \n",
    "    # Join all but the last item with commas, and the last item with \"and\"\n",
    "    return \", \".join(sorted_sources[:-1]) + \" and the \" + sorted_sources[-1]"
   ]
  },
  {
   "cell_type": "markdown",
   "id": "b20ecc91-4dfd-4c8e-810e-e4665a60cb1a",
   "metadata": {},
   "source": [
    "---"
   ]
  },
  {
   "cell_type": "code",
   "execution_count": 5,
   "id": "6a8ab29d-7660-445f-a10a-9c9f816506c2",
   "metadata": {},
   "outputs": [],
   "source": [
    "# Cook \n",
    "cook_src = pd.read_csv('https://static.dwcdn.net/data/KTtuN.csv', storage_options=headers, parse_dates=['Date/Time'])[['Date/Time', 'Harris Trend', 'Trump2 Trend']].dropna().rename(columns={'Date/Time': 'date', 'Harris Trend': 'harris', 'Trump2 Trend': 'trump'}).reset_index(drop=True).round(1)"
   ]
  },
  {
   "cell_type": "code",
   "execution_count": 6,
   "id": "0b876159-51a5-4bb5-a177-0cfb92a73447",
   "metadata": {},
   "outputs": [],
   "source": [
    "cook_src['date'] = pd.to_datetime(cook_src['date']).dt.strftime('%Y-%m-%d')\n",
    "cook_src['source'] = 'Cook Political Report'\n",
    "cook_src['notes'] = ''"
   ]
  },
  {
   "cell_type": "code",
   "execution_count": 7,
   "id": "b4f2312e-6508-4ab2-8569-9a8e5dcc6563",
   "metadata": {},
   "outputs": [],
   "source": [
    "cook_latest = cook_src.query('date == date.max()')"
   ]
  },
  {
   "cell_type": "code",
   "execution_count": 8,
   "id": "0ac1d5d6-4518-4566-8559-00da699f3024",
   "metadata": {},
   "outputs": [],
   "source": [
    "# RCP\n",
    "rcp_src = pd.read_csv('https://stilesdata.com/polling/harris_trump/polls_avg/_trend/harris_trump_trend.csv')[['fetch_date', 'harris_value', 'trump_value']].rename(columns={'trump_value': 'trump', 'harris_value': 'harris', 'fetch_date': 'date'})"
   ]
  },
  {
   "cell_type": "code",
   "execution_count": 9,
   "id": "73cb131b-0fc3-4264-b5e2-864990fa7691",
   "metadata": {},
   "outputs": [],
   "source": [
    "rcp_src['source'] = \"Real Clear Politics\"\n",
    "rcp_src['notes'] = ''"
   ]
  },
  {
   "cell_type": "code",
   "execution_count": 10,
   "id": "b89127fe-521f-41b7-ad77-5b18d88547ca",
   "metadata": {},
   "outputs": [],
   "source": [
    "rcp_latest = rcp_src.query('date == date.max()')"
   ]
  },
  {
   "cell_type": "code",
   "execution_count": 11,
   "id": "5e5ac93c-415b-4f42-8d10-749e86c94825",
   "metadata": {},
   "outputs": [],
   "source": [
    "# FiveThirtyEight\n",
    "fte_src = pd.read_json('https://projects.fivethirtyeight.com/polls/president-general/2024/national/polling-average.json').pivot(columns='candidate', values='pct_estimate', index='date').reset_index().rename(columns={'Trump': 'trump', 'Harris': 'harris', 'Kennedy': 'kennedy'}).round(1)"
   ]
  },
  {
   "cell_type": "code",
   "execution_count": 12,
   "id": "3e72fb1d-d26f-4f86-b08a-16fe77314c96",
   "metadata": {},
   "outputs": [],
   "source": [
    "fte_src['source'] = 'FiveThirtyEight'\n",
    "fte_src['date'] = pd.to_datetime(fte_src['date']).dt.strftime('%Y-%m-%d')\n",
    "fte_src['notes'] = 'w/Kennedy'"
   ]
  },
  {
   "cell_type": "code",
   "execution_count": 13,
   "id": "2c3e1510-5b5d-4ca4-996d-b848b76e1269",
   "metadata": {},
   "outputs": [],
   "source": [
    "fte_latest = fte_src.query('date == date.max()').drop('kennedy', axis=1)"
   ]
  },
  {
   "cell_type": "code",
   "execution_count": 14,
   "id": "05273efa-61ad-4831-888e-8b8508a520e4",
   "metadata": {},
   "outputs": [],
   "source": [
    "# Nate Silver"
   ]
  },
  {
   "cell_type": "code",
   "execution_count": 15,
   "id": "51a22844-f487-4527-b9da-c64bd15476ba",
   "metadata": {},
   "outputs": [],
   "source": [
    "nate_cols = ['modeldate','state', 'trump','harris', 'rfk']"
   ]
  },
  {
   "cell_type": "code",
   "execution_count": 16,
   "id": "0923c744-42cf-4252-b279-acc982dd8ddb",
   "metadata": {},
   "outputs": [],
   "source": [
    "nate_src = pd.read_csv('https://static.dwcdn.net/data/wB0Zh.csv', storage_options=headers).query('state==\"National\"').dropna(subset='harris')[nate_cols].rename(columns={'modeldate': 'date', 'rfk': 'kennedy'}).round(1)"
   ]
  },
  {
   "cell_type": "code",
   "execution_count": 17,
   "id": "5fae6df6-cc60-4fc9-988a-07d37dd04eb8",
   "metadata": {},
   "outputs": [],
   "source": [
    "nate_src['source'] = 'Silver Bulletin'\n",
    "nate_src['date'] = pd.to_datetime(nate_src['date'], format='mixed').dt.strftime('%Y-%m-%d')"
   ]
  },
  {
   "cell_type": "code",
   "execution_count": 18,
   "id": "aba26a1e-b336-46cf-94b5-37ae10600ecf",
   "metadata": {},
   "outputs": [],
   "source": [
    "nate_latest = nate_src.query('date == date.max()').drop('kennedy', axis=1)"
   ]
  },
  {
   "cell_type": "code",
   "execution_count": 19,
   "id": "b35ae200-b35a-4bff-a23c-5fee58ed61b4",
   "metadata": {},
   "outputs": [],
   "source": [
    "# 270toWin"
   ]
  },
  {
   "cell_type": "code",
   "execution_count": 20,
   "id": "b40eb2ef-44c7-4aeb-ade3-e088cbdfb7ad",
   "metadata": {},
   "outputs": [],
   "source": [
    "data_dict = requests.get('https://www.270towin.com/polls/php/get-polls-by-state.php?election_year=2024&candidate_name_dem=Harris&candidate_name_rep=Trump&sort_by=date').json()['results']"
   ]
  },
  {
   "cell_type": "code",
   "execution_count": 21,
   "id": "2016daa1-ee90-446a-8d2d-6ff0fc621c1d",
   "metadata": {},
   "outputs": [],
   "source": [
    "src_270_cols = ['poll_date_timestamp', 'poll_dem_avg', 'poll_rep_avg']"
   ]
  },
  {
   "cell_type": "code",
   "execution_count": 22,
   "id": "c6c5d7b0-ab40-4c17-926a-f002fbab14ca",
   "metadata": {},
   "outputs": [],
   "source": [
    "# Create a DataFrame from the dictionary\n",
    "src_270 = pd.DataFrame.from_dict(data_dict, orient='index')[src_270_cols].rename(columns={'index': 'state', 'poll_date_timestamp':'date', 'poll_dem_avg': 'harris', 'poll_rep_avg':'trump'}).reset_index()"
   ]
  },
  {
   "cell_type": "code",
   "execution_count": 23,
   "id": "45685ffc-3268-45be-b35d-f5cfdba87be2",
   "metadata": {},
   "outputs": [],
   "source": [
    "src_270['date'] = pd.to_datetime(src_270['date'], unit='s').dt.strftime('%Y-%m-%d')"
   ]
  },
  {
   "cell_type": "code",
   "execution_count": 24,
   "id": "a53884f2-a447-46ad-8575-b52401ba0da2",
   "metadata": {},
   "outputs": [],
   "source": [
    "src_270['notes'] = ''\n",
    "src_270['source'] = '270toWin'"
   ]
  },
  {
   "cell_type": "code",
   "execution_count": 25,
   "id": "40bab2d3-3f77-49d6-9486-7b6876669fa0",
   "metadata": {},
   "outputs": [],
   "source": [
    "src_270df = src_270.query('index==\"0\"').drop('index', axis=1).copy()"
   ]
  },
  {
   "cell_type": "code",
   "execution_count": 26,
   "id": "a01aef27-d178-48eb-9afd-057866787784",
   "metadata": {},
   "outputs": [],
   "source": [
    "latest_270 = src_270df.query('date == date.max()')"
   ]
  },
  {
   "cell_type": "code",
   "execution_count": 27,
   "id": "b7c71f55-2c5a-4db6-a0d9-ea4c4e66719a",
   "metadata": {},
   "outputs": [],
   "source": [
    "# Economist"
   ]
  },
  {
   "cell_type": "code",
   "execution_count": 28,
   "id": "10519bda-2ce5-4c87-a8ed-cdf059a161fc",
   "metadata": {},
   "outputs": [],
   "source": [
    "econ_src = pd.read_csv('https://cdn.economistdatateam.com/2024-us-tracker/harris/data/polls/polltracker-latest-trend.csv', storage_options=headers).pivot(columns='candidate_name', index='date', values='pct').reset_index().rename(columns={'Donald Trump': 'trump', 'Kamala Harris': 'harris'}).round(1)"
   ]
  },
  {
   "cell_type": "code",
   "execution_count": 29,
   "id": "d27c313c-12dd-493e-8c3e-7aacb8a9d126",
   "metadata": {},
   "outputs": [],
   "source": [
    "econ_src['source'] = \"Economist\"\n",
    "econ_src['notes'] = \"\""
   ]
  },
  {
   "cell_type": "code",
   "execution_count": 30,
   "id": "83019527-deb4-4750-88d9-28eaa57078e8",
   "metadata": {},
   "outputs": [],
   "source": [
    "# All sources"
   ]
  },
  {
   "cell_type": "code",
   "execution_count": 31,
   "id": "59f0d90e-02a6-4ae2-afc2-186d362fe347",
   "metadata": {},
   "outputs": [],
   "source": [
    "cols = ['date', 'source', 'harris', 'trump']"
   ]
  },
  {
   "cell_type": "code",
   "execution_count": 32,
   "id": "011e495a-186b-4f10-b7b5-ef6aeccec448",
   "metadata": {},
   "outputs": [],
   "source": [
    "df = pd.concat([cook_latest, rcp_latest, fte_latest, nate_latest, latest_270, econ_src]).reset_index(drop=True)[cols]"
   ]
  },
  {
   "cell_type": "code",
   "execution_count": 33,
   "id": "0399bee2-0bef-46bb-8b89-d3784fac3a42",
   "metadata": {},
   "outputs": [],
   "source": [
    "# Apply the function to create the 'winning' column\n",
    "df['margin'] = df.apply(determine_winner, axis=1)"
   ]
  },
  {
   "cell_type": "code",
   "execution_count": 34,
   "id": "3d0a1733-a895-4581-bb5d-5f8935ccad97",
   "metadata": {},
   "outputs": [],
   "source": [
    "harris_avg = df['harris'].mean().round(2).astype(float)\n",
    "trump_avg = df['trump'].mean().round(2).astype(float)"
   ]
  },
  {
   "cell_type": "code",
   "execution_count": 35,
   "id": "7bb19dc5-fa9f-46f1-930c-f49129edf6e4",
   "metadata": {},
   "outputs": [],
   "source": [
    "if harris_avg > trump_avg:\n",
    "    avg_winning = \"Vice President Kamala Harris\"\n",
    "    avg_losing = \"former President Donald Trump\"\n",
    "    avg_margin = round(harris_avg - trump_avg, 2)\n",
    "    avg_winning_value = harris_avg\n",
    "    avg_losing_value = trump_avg\n",
    "else:\n",
    "    avg_winning = \"Former President Donald Trump\"\n",
    "    avg_losing = \"Vice President Kamala Harris\"\n",
    "    avg_margin = round(trump_avg - harris_avg, 2)\n",
    "    avg_winning_value = trump_avg\n",
    "    avg_losing_value = harris_avg"
   ]
  },
  {
   "cell_type": "code",
   "execution_count": 36,
   "id": "63cd4523-976e-4d57-bdb2-861584dc29d0",
   "metadata": {},
   "outputs": [],
   "source": [
    "# Example list of sources\n",
    "sources = list(df['source'].unique())\n",
    "\n",
    "# Format the sources list\n",
    "formatted_sources = format_sources(sources)"
   ]
  },
  {
   "cell_type": "code",
   "execution_count": 37,
   "id": "99255dfa-d9d8-49d1-b12c-bd39bce832bf",
   "metadata": {},
   "outputs": [
    {
     "data": {
      "text/plain": [
       "'Vice President Kamala Harris is leading in the national polls to former President Donald Trump by a margin of 1.68 percentage points, as of August 8, according to an average of six prominent polling averages. The organizations include: 270toWin, Cook Political Report, Economist, FiveThirtyEight, Real Clear Politics and the Silver Bulletin'"
      ]
     },
     "execution_count": 37,
     "metadata": {},
     "output_type": "execute_result"
    }
   ],
   "source": [
    "msg = f'{avg_winning} is leading in the national polls to {avg_losing} by a margin of {avg_margin} percentage points, as of {today}, according to an average of six prominent polling averages. The organizations include: {formatted_sources}'\n",
    "msg"
   ]
  },
  {
   "cell_type": "code",
   "execution_count": 41,
   "id": "a4a35604-24f1-4b51-934e-e8ae41c66912",
   "metadata": {},
   "outputs": [
    {
     "name": "stdout",
     "output_type": "stream",
     "text": [
      "[NbConvertApp] Converting notebook fetch_all_poll_averages.ipynb to script\n",
      "[NbConvertApp] Writing 5480 bytes to ../fetch_all_poll_averages.py\n"
     ]
    }
   ],
   "source": [
    "!jupyter nbconvert --to script --no-prompt --output ../fetch_all_poll_averages fetch_all_poll_averages.ipynb"
   ]
  }
 ],
 "metadata": {
  "kernelspec": {
   "display_name": "Python 3 (ipykernel)",
   "language": "python",
   "name": "python3"
  },
  "language_info": {
   "codemirror_mode": {
    "name": "ipython",
    "version": 3
   },
   "file_extension": ".py",
   "mimetype": "text/x-python",
   "name": "python",
   "nbconvert_exporter": "python",
   "pygments_lexer": "ipython3",
   "version": "3.9.15"
  }
 },
 "nbformat": 4,
 "nbformat_minor": 5
}
